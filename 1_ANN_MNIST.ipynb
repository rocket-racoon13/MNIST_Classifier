{
 "cells": [
  {
   "cell_type": "markdown",
   "metadata": {},
   "source": [
    "Reference  \n",
    "https://www.kaggle.com/code/joseguzman/pytorch-simple-ann-for-mnist"
   ]
  },
  {
   "cell_type": "code",
   "execution_count": 2,
   "metadata": {},
   "outputs": [],
   "source": [
    "import torch\n",
    "import torch.nn as nn\n",
    "import torch.nn.functional as F\n",
    "\n",
    "from torch.utils.data import DataLoader\n",
    "from torchvision import datasets, transforms\n",
    "\n",
    "import numpy as np\n",
    "import matplotlib.pyplot as plt\n",
    "from tqdm import tqdm"
   ]
  },
  {
   "attachments": {},
   "cell_type": "markdown",
   "metadata": {},
   "source": [
    "### Download and Load MNIST Dataset"
   ]
  },
  {
   "cell_type": "code",
   "execution_count": 3,
   "metadata": {},
   "outputs": [
    {
     "name": "stderr",
     "output_type": "stream",
     "text": [
      "c:\\Users\\minji\\.conda\\envs\\workspace\\lib\\site-packages\\torchvision\\datasets\\mnist.py:498: UserWarning: The given NumPy array is not writeable, and PyTorch does not support non-writeable tensors. This means you can write to the underlying (supposedly non-writeable) NumPy array using the tensor. You may want to copy the array to protect its data or make it writeable before converting it to a tensor. This type of warning will be suppressed for the rest of this program. (Triggered internally at  ..\\torch\\csrc\\utils\\tensor_numpy.cpp:180.)\n",
      "  return torch.from_numpy(parsed.astype(m[2], copy=False)).view(*s)\n"
     ]
    }
   ],
   "source": [
    "mytransform = transforms.ToTensor()\n",
    "\n",
    "train_data = datasets.MNIST(root='./dataset', download=True, train=True, transform=mytransform)\n",
    "test_data = datasets.MNIST(root='./dataset', download=True, train=False, transform=mytransform)"
   ]
  },
  {
   "cell_type": "code",
   "execution_count": 4,
   "metadata": {},
   "outputs": [
    {
     "data": {
      "text/plain": [
       "torch.Size([1, 28, 28])"
      ]
     },
     "execution_count": 4,
     "metadata": {},
     "output_type": "execute_result"
    }
   ],
   "source": [
    "img, label = train_data[0]\n",
    "img.shape"
   ]
  },
  {
   "cell_type": "code",
   "execution_count": 5,
   "metadata": {},
   "outputs": [
    {
     "data": {
      "text/plain": [
       "(-0.5, 27.5, 27.5, -0.5)"
      ]
     },
     "execution_count": 5,
     "metadata": {},
     "output_type": "execute_result"
    },
    {
     "data": {
      "image/png": "[encoded data removed]",
      "text/plain": [
       "<Figure size 432x288 with 1 Axes>"
      ]
     },
     "metadata": {
      "needs_background": "light"
     },
     "output_type": "display_data"
    }
   ],
   "source": [
    "plt.imshow(img.squeeze(), cmap='gist_yarg')\n",
    "plt.axis('off')"
   ]
  },
  {
   "attachments": {},
   "cell_type": "markdown",
   "metadata": {},
   "source": [
    "### DataLoader"
   ]
  },
  {
   "cell_type": "code",
   "execution_count": 6,
   "metadata": {},
   "outputs": [],
   "source": [
    "torch.manual_seed(101)\n",
    "\n",
    "train_loader = DataLoader(train_data, batch_size=100, shuffle=True)\n",
    "test_loader = DataLoader(test_data, batch_size=500, shuffle=False)"
   ]
  },
  {
   "cell_type": "code",
   "execution_count": 7,
   "metadata": {},
   "outputs": [
    {
     "data": {
      "text/plain": [
       "torch.Size([100, 1, 28, 28])"
      ]
     },
     "execution_count": 7,
     "metadata": {},
     "output_type": "execute_result"
    }
   ],
   "source": [
    "for img, label in train_loader:\n",
    "    break\n",
    "img.shape"
   ]
  },
  {
   "attachments": {},
   "cell_type": "markdown",
   "metadata": {},
   "source": [
    "### Create the Network"
   ]
  },
  {
   "cell_type": "code",
   "execution_count": 8,
   "metadata": {},
   "outputs": [],
   "source": [
    "in_features = 784\n",
    "out_features = 10"
   ]
  },
  {
   "attachments": {},
   "cell_type": "markdown",
   "metadata": {},
   "source": [
    "- nn.Sequential() creates an ordered dict where each layer is placed sequentially.\n",
    "- Modules are stored in self._modules (ordered dict)\n",
    "- When an instance of nn.Sequential() is run, \"input\" enters the first module and the result is passed onto the next module until the final result is returned."
   ]
  },
  {
   "cell_type": "code",
   "execution_count": null,
   "metadata": {},
   "outputs": [],
   "source": [
    "# class Sequential(Module):\n",
    "#     ...\n",
    "#     def forward(self, input):\n",
    "#         for module in self:\n",
    "#             input = module(input)\n",
    "#         return input"
   ]
  },
  {
   "cell_type": "code",
   "execution_count": null,
   "metadata": {},
   "outputs": [],
   "source": [
    "# class Module:\n",
    "#     ...\n",
    "#     def __init__(self):\n",
    "#         ...\n",
    "#         self.training = True\n",
    "#         self._parameters = OrderedDict()\n",
    "#         self._buffers = OrderedDict()\n",
    "#         self._non_persistent_buffers_set = set()\n",
    "#         self._backward_hooks = OrderedDict()\n",
    "#         self._is_full_backward_hook = None\n",
    "#         self._forward_hooks = OrderedDict()\n",
    "#         self._forward_pre_hooks = OrderedDict()\n",
    "#         self._state_dict_hooks = OrderedDict()\n",
    "#         self._load_state_dict_pre_hooks = OrderedDict()\n",
    "#         self._modules = OrderedDict()\n",
    "#         ..."
   ]
  },
  {
   "cell_type": "markdown",
   "metadata": {},
   "source": [
    "그냥 ordered dict 사용하면 되지 않나? 굳이 Sequential 컨테이너에 넣는 이유?\n",
    "- \"Sequential\" 자체에 transformation을 할 경우, 컨테이너에 포함된 모든 모듈에 한꺼번에 적용시킬 수 있다는 이점이 있기 때문 (custom random initialization 등)"
   ]
  },
  {
   "cell_type": "code",
   "execution_count": 15,
   "metadata": {},
   "outputs": [],
   "source": [
    "# ANN, 2 hidden layers\n",
    "mnist_classifier = nn.Sequential(\n",
    "    nn.Linear(in_features, 120),\n",
    "    nn.ReLU(),\n",
    "    nn.Linear(120, 84),\n",
    "    nn.ReLU(),\n",
    "    nn.Linear(84, out_features)\n",
    ")\n",
    "\n",
    "loss_func = nn.CrossEntropyLoss()\n",
    "optimizer = torch.optim.AdamW(mnist_classifier.parameters(), lr=1e-3)"
   ]
  },
  {
   "cell_type": "code",
   "execution_count": 14,
   "metadata": {},
   "outputs": [
    {
     "data": {
      "text/plain": [
       "Sequential(\n",
       "  (0): Linear(in_features=784, out_features=140, bias=True)\n",
       "  (1): ReLU()\n",
       "  (2): Linear(in_features=120, out_features=84, bias=True)\n",
       "  (3): ReLU()\n",
       "  (4): Linear(in_features=84, out_features=10, bias=True)\n",
       ")"
      ]
     },
     "metadata": {},
     "output_type": "display_data"
    },
    {
     "data": {
      "text/plain": [
       "5"
      ]
     },
     "metadata": {},
     "output_type": "display_data"
    },
    {
     "data": {
      "text/plain": [
       "Linear(in_features=784, out_features=140, bias=True)"
      ]
     },
     "metadata": {},
     "output_type": "display_data"
    },
    {
     "data": {
      "text/plain": [
       "Sequential(\n",
       "  (0): Linear(in_features=784, out_features=140, bias=True)\n",
       "  (1): ReLU()\n",
       "  (2): Linear(in_features=120, out_features=84, bias=True)\n",
       "  (3): ReLU()\n",
       "  (4): Linear(in_features=84, out_features=10, bias=True)\n",
       ")"
      ]
     },
     "execution_count": 14,
     "metadata": {},
     "output_type": "execute_result"
    }
   ],
   "source": [
    "display(mnist_classifier) # nn.Sequential instance\n",
    "display(len(mnist_classifier))\n",
    "display(mnist_classifier[0])\n",
    "mnist_classifier[0] = nn.Linear(in_features, 140) # __setitem__\n",
    "mnist_classifier # instance를 생성하는 단계에서는 feature 개수 mismatch에 따른 오류 발생 x"
   ]
  },
  {
   "cell_type": "markdown",
   "metadata": {},
   "source": [
    "### nn.Linear\n",
    "- in_features, out_features를 파라미터로 받아서\n",
    "- self.weight -> (out_features, in_features) 크기에 해당하는 empty tensor를 저장\n",
    "- self.bias -> out_features 크기에 해당하는 empty bias vector를 저장\n",
    "- init.kaiming_uniform_()으로 weight random initialization\n",
    "- forward()하면 F.linear() -> torch._C._nn.linear(input, weight, bias) -> 이 코드는 CPP로 작성되어 있는 것 같지만 matmul을 통해 y = xA^T + b 수행하는 듯함"
   ]
  },
  {
   "cell_type": "code",
   "execution_count": null,
   "metadata": {},
   "outputs": [],
   "source": [
    "# class Linear(Module):\n",
    "#     ...\n",
    "#     def __init__(self, in_features: int, out_features: int, bias: bool = True,\n",
    "#                  device=None, dtype=None) -> None:\n",
    "#         factory_kwargs = {'device': device, 'dtype': dtype}\n",
    "#         super(Linear, self).__init__()\n",
    "#         self.in_features = in_features\n",
    "#         self.out_features = out_features\n",
    "#         self.weight = Parameter(torch.empty((out_features, in_features), **factory_kwargs))\n",
    "#         if bias:\n",
    "#             self.bias = Parameter(torch.empty(out_features, **factory_kwargs))\n",
    "#         else:\n",
    "#             self.register_parameter('bias', None)\n",
    "#         self.reset_parameters()\n",
    "\n",
    "#     def reset_parameters(self) -> None:\n",
    "#         init.kaiming_uniform_(self.weight, a=math.sqrt(5))\n",
    "#         if self.bias is not None:\n",
    "#             fan_in, _ = init._calculate_fan_in_and_fan_out(self.weight)\n",
    "#             bound = 1 / math.sqrt(fan_in) if fan_in > 0 else 0\n",
    "#             init.uniform_(self.bias, -bound, bound)\n",
    "\n",
    "#     def forward(self, input: Tensor) -> Tensor:\n",
    "#         return F.linear(input, self.weight, self.bias)"
   ]
  },
  {
   "cell_type": "markdown",
   "metadata": {},
   "source": [
    "torch에서는 기본적으로 He initialization을 사용하지만, 아래 방법과 같이 random initialization 방법을 지정해서 manual하게 적용할 수도 있다고 한다(https://jh-bk.tistory.com/10). 이래서 일종의 transformation을 할 때 Sequential 컨테이너로 모듈들을 묶는 게 편하다는 것 같다."
   ]
  },
  {
   "cell_type": "code",
   "execution_count": null,
   "metadata": {},
   "outputs": [],
   "source": [
    "# def weight_init_xavier_uniform(submodule):\n",
    "#     if isinstance(submodule, torch.nn.Conv2d):\n",
    "#         torch.nn.init.xavier_uniform_(submodule.weight)\n",
    "#         submodule.bias.data.fill_(0.01)\n",
    "#     elif isinstance(submodule, torch.nn.BatchNorm2d):\n",
    "#         submodule.weight.data.fill_(1.0)\n",
    "#         submodule.bias.data.zero_()\n",
    "\n",
    "# SequentialModel = torch.nn.Sequential(\n",
    "#         torch.nn.Conv2d(1, 1, 2),\n",
    "#         torch.nn.Conv2d(1, 1, 2),\n",
    "#         torch.nn.BatchNorm2d(1),\n",
    "#     )\n",
    "# SequentialModel.apply(weight_init_xavier_uniform)"
   ]
  },
  {
   "cell_type": "markdown",
   "metadata": {},
   "source": [
    "### Module 클래스의 parameters 확인"
   ]
  },
  {
   "cell_type": "code",
   "execution_count": null,
   "metadata": {},
   "outputs": [],
   "source": [
    "# class Module:\n",
    "#     ...\n",
    "#     def parameters(self, recurse: bool = True) -> Iterator[Parameter]:\n",
    "#         r\"\"\"Returns an iterator over module parameters.\n",
    "\n",
    "#         This is typically passed to an optimizer.\n",
    "\n",
    "#         Args:\n",
    "#             recurse (bool): if True, then yields parameters of this module\n",
    "#                 and all submodules. Otherwise, yields only parameters that\n",
    "#                 are direct members of this module.\n",
    "\n",
    "#         Yields:\n",
    "#             Parameter: module parameter\n",
    "\n",
    "#         Example::\n",
    "\n",
    "#             >>> for param in model.parameters():\n",
    "#             >>>     print(type(param), param.size())\n",
    "#             <class 'torch.Tensor'> (20L,)\n",
    "#             <class 'torch.Tensor'> (20L, 1L, 5L, 5L)\n",
    "\n",
    "#         \"\"\"\n",
    "#         for name, param in self.named_parameters(recurse=recurse):\n",
    "#             yield param"
   ]
  },
  {
   "cell_type": "code",
   "execution_count": 26,
   "metadata": {},
   "outputs": [
    {
     "name": "stdout",
     "output_type": "stream",
     "text": [
      "('0.weight', 94080)\n",
      "\n",
      "Parameter containing:\n",
      "tensor([[-0.0125, -0.0285,  0.0278,  ..., -0.0154, -0.0293,  0.0282],\n",
      "        [ 0.0090,  0.0116,  0.0255,  ...,  0.0319,  0.0077, -0.0292],\n",
      "        [-0.0124, -0.0237, -0.0121,  ..., -0.0295, -0.0242,  0.0223],\n",
      "        ...,\n",
      "        [ 0.0045,  0.0141,  0.0109,  ..., -0.0077, -0.0114,  0.0137],\n",
      "        [-0.0030, -0.0235,  0.0004,  ...,  0.0008, -0.0304,  0.0302],\n",
      "        [ 0.0053, -0.0053,  0.0225,  ...,  0.0226, -0.0131, -0.0339]],\n",
      "       requires_grad=True)\n",
      "('0.bias', 120)\n",
      "\n",
      "Parameter containing:\n",
      "tensor([-0.0299,  0.0242, -0.0191, -0.0121, -0.0072,  0.0087,  0.0049, -0.0025,\n",
      "        -0.0101, -0.0143,  0.0311, -0.0022,  0.0209, -0.0030,  0.0201, -0.0316,\n",
      "         0.0111, -0.0087, -0.0352, -0.0234, -0.0278, -0.0224,  0.0101, -0.0181,\n",
      "         0.0245,  0.0013, -0.0181,  0.0061, -0.0060,  0.0081, -0.0206,  0.0170,\n",
      "        -0.0342,  0.0214,  0.0192,  0.0228, -0.0294, -0.0269,  0.0110, -0.0303,\n",
      "        -0.0234, -0.0221,  0.0305,  0.0255, -0.0203,  0.0304,  0.0058, -0.0190,\n",
      "         0.0273, -0.0063,  0.0247, -0.0303,  0.0224,  0.0329,  0.0303,  0.0012,\n",
      "         0.0347, -0.0325,  0.0088, -0.0179, -0.0106,  0.0088,  0.0021, -0.0127,\n",
      "         0.0030, -0.0306, -0.0189,  0.0080,  0.0104, -0.0263,  0.0272, -0.0305,\n",
      "        -0.0144, -0.0117, -0.0216, -0.0167, -0.0196, -0.0327, -0.0172,  0.0134,\n",
      "        -0.0152,  0.0269, -0.0012,  0.0222, -0.0333, -0.0063, -0.0087, -0.0091,\n",
      "         0.0307, -0.0059,  0.0109,  0.0228, -0.0083,  0.0331, -0.0104,  0.0048,\n",
      "         0.0156,  0.0241, -0.0009, -0.0017, -0.0084,  0.0179, -0.0269, -0.0188,\n",
      "        -0.0341, -0.0203,  0.0280,  0.0268,  0.0031, -0.0197, -0.0322,  0.0225,\n",
      "         0.0231, -0.0024, -0.0237,  0.0292,  0.0254, -0.0145,  0.0008, -0.0052],\n",
      "       requires_grad=True)\n",
      "('2.weight', 10080)\n",
      "\n",
      "Parameter containing:\n",
      "tensor([[ 0.0894, -0.0816,  0.0426,  ...,  0.0477, -0.0848, -0.0187],\n",
      "        [ 0.0319, -0.0397,  0.0336,  ..., -0.0894,  0.0046,  0.0785],\n",
      "        [ 0.0031, -0.0066,  0.0130,  ...,  0.0435, -0.0698,  0.0906],\n",
      "        ...,\n",
      "        [ 0.0029,  0.0270,  0.0115,  ..., -0.0618,  0.0847,  0.0295],\n",
      "        [-0.0601, -0.0776,  0.0454,  ..., -0.0773, -0.0250, -0.0644],\n",
      "        [-0.0112, -0.0658, -0.0797,  ..., -0.0037,  0.0221, -0.0212]],\n",
      "       requires_grad=True)\n",
      "('2.bias', 84)\n",
      "\n",
      "Parameter containing:\n",
      "tensor([-0.0368, -0.0558, -0.0811,  0.0608,  0.0509, -0.0706, -0.0290, -0.0580,\n",
      "        -0.0806,  0.0742,  0.0721,  0.0056,  0.0891,  0.0170,  0.0461,  0.0457,\n",
      "         0.0072,  0.0534,  0.0657,  0.0806,  0.0476,  0.0134,  0.0809,  0.0146,\n",
      "         0.0252, -0.0371, -0.0494, -0.0410, -0.0741,  0.0349,  0.0622, -0.0599,\n",
      "        -0.0116,  0.0862,  0.0844,  0.0612,  0.0459,  0.0801, -0.0552, -0.0655,\n",
      "         0.0439, -0.0236,  0.0137,  0.0255, -0.0693,  0.0118, -0.0535, -0.0515,\n",
      "         0.0486,  0.0792,  0.0392,  0.0660, -0.0484,  0.0449, -0.0096,  0.0200,\n",
      "        -0.0719, -0.0362,  0.0302, -0.0587,  0.0230, -0.0769, -0.0479, -0.0183,\n",
      "        -0.0230, -0.0478,  0.0868, -0.0081, -0.0511,  0.0612,  0.0741,  0.0836,\n",
      "         0.0186, -0.0444,  0.0247, -0.0895, -0.0548, -0.0646, -0.0415,  0.0842,\n",
      "        -0.0300, -0.0527, -0.0327, -0.0136], requires_grad=True)\n",
      "('4.weight', 840)\n",
      "\n",
      "Parameter containing:\n",
      "tensor([[ 1.0495e-01, -5.7713e-02, -2.0802e-02, -2.8551e-02,  9.9041e-02,\n",
      "         -5.1304e-03, -7.6882e-02, -1.9346e-02, -2.9719e-02,  1.0043e-01,\n",
      "         -6.1797e-02, -1.8012e-02, -2.8113e-02, -4.6766e-02,  3.8409e-02,\n",
      "          9.3755e-02,  4.0849e-02, -3.6273e-02, -7.5419e-02,  1.7410e-02,\n",
      "         -1.5724e-02,  3.2117e-02,  1.5100e-02, -8.2276e-02, -8.4277e-02,\n",
      "          3.2723e-02,  6.4990e-02, -3.2723e-02, -3.1384e-02, -6.7245e-02,\n",
      "         -3.3405e-02,  6.5567e-02,  2.5117e-02, -5.8107e-02, -1.0861e-01,\n",
      "          7.8184e-02, -3.0404e-02,  4.0819e-02, -2.5599e-02,  6.0691e-02,\n",
      "          1.0679e-01,  3.8796e-02,  5.3553e-03,  1.0948e-02,  5.3446e-03,\n",
      "          9.5536e-02,  8.4707e-02, -5.7454e-02,  2.3703e-02,  2.4826e-02,\n",
      "          3.1397e-02, -7.8905e-02,  8.0897e-02, -7.5547e-02,  6.5824e-02,\n",
      "         -1.0815e-01, -4.2545e-02, -5.2325e-02, -8.6032e-02, -1.0292e-02,\n",
      "         -6.0724e-02, -5.5877e-02,  1.0791e-01, -5.1440e-02, -1.0362e-01,\n",
      "          2.9751e-02,  2.2066e-02,  2.6317e-02,  7.7644e-02, -2.3046e-02,\n",
      "          9.6442e-03, -9.6582e-04, -1.2382e-02, -8.8564e-02, -5.4558e-02,\n",
      "          9.8486e-02,  2.0987e-02,  8.2012e-02, -9.1038e-02, -1.0263e-01,\n",
      "         -9.9736e-02, -3.6784e-02,  7.0951e-02, -7.7085e-02],\n",
      "        [ 9.2918e-02, -1.8987e-02,  1.0749e-01,  7.6570e-02, -5.8566e-02,\n",
      "         -2.9130e-03, -5.8829e-02,  5.6178e-02, -5.5670e-02,  6.6904e-02,\n",
      "          1.5376e-02, -1.4098e-02, -3.3802e-02, -8.9546e-02,  7.8519e-02,\n",
      "          5.3821e-02, -6.2221e-02, -1.0887e-01,  8.9780e-02, -6.4818e-02,\n",
      "         -5.1013e-03, -5.3059e-02, -9.8333e-02, -2.6004e-02,  8.3257e-02,\n",
      "          7.8800e-02, -3.5711e-02,  9.5329e-02, -7.5374e-02,  1.0104e-01,\n",
      "          3.3732e-02,  1.7179e-02, -6.1735e-02,  3.1016e-02,  9.8782e-02,\n",
      "         -8.3544e-02,  6.8545e-02,  6.4642e-02,  2.1016e-02,  7.1096e-02,\n",
      "          7.5636e-02, -1.6768e-02, -1.0508e-01, -7.8256e-02,  5.0918e-02,\n",
      "          9.5496e-02,  5.2780e-02,  1.3567e-02,  5.7507e-02,  1.9139e-02,\n",
      "         -8.6166e-02,  9.6456e-02,  9.5388e-02,  8.8780e-02,  5.7350e-02,\n",
      "          6.8628e-03, -3.8701e-02, -9.6852e-02,  4.7264e-02, -6.5887e-02,\n",
      "         -2.0265e-02, -8.6040e-02, -3.4414e-02,  1.0152e-01, -4.2890e-02,\n",
      "          3.6004e-03, -6.7221e-02,  6.0654e-02, -6.1293e-02,  8.3188e-02,\n",
      "         -2.2003e-02, -1.5744e-02, -1.0173e-02, -5.3585e-02, -4.4821e-02,\n",
      "          2.5968e-02,  6.8111e-02, -4.9747e-02, -9.0973e-02,  9.5977e-02,\n",
      "          4.3845e-02, -2.2887e-02, -5.7536e-02, -5.2923e-02],\n",
      "        [-1.0625e-01, -8.4772e-02, -5.0122e-03,  7.9022e-02,  1.6309e-03,\n",
      "          2.8161e-02,  2.5773e-02, -3.2682e-02,  1.9216e-02,  1.0942e-02,\n",
      "         -1.5813e-02,  2.8862e-02,  2.0432e-02, -1.0848e-01, -6.2791e-02,\n",
      "          1.0084e-01,  6.4827e-02,  1.0312e-01,  9.3582e-04, -1.0238e-02,\n",
      "          7.2132e-02, -2.8690e-02, -7.2846e-02, -3.4255e-02, -9.2868e-02,\n",
      "          8.6622e-02, -1.4028e-02,  2.8992e-02, -1.0660e-01, -3.3330e-02,\n",
      "         -4.8427e-02, -1.0021e-01, -5.4771e-02, -2.5366e-02,  9.7601e-02,\n",
      "          5.8386e-03,  4.7918e-02, -1.7837e-02, -7.9405e-02, -7.9557e-02,\n",
      "         -1.0262e-01,  8.3804e-03,  2.7282e-02, -6.6229e-02, -9.1399e-03,\n",
      "         -4.4726e-02,  5.6955e-02,  8.1163e-02,  8.1879e-02, -3.7284e-02,\n",
      "          5.2901e-02, -5.5518e-02, -5.1559e-02, -1.0179e-01, -6.1285e-02,\n",
      "          9.3658e-02,  5.2865e-02, -9.4540e-02, -6.1228e-02, -5.8364e-03,\n",
      "         -6.0382e-02, -8.9322e-02,  1.3697e-02, -1.0685e-01,  7.7212e-02,\n",
      "          9.8345e-02, -8.3227e-02,  1.0815e-01,  7.1008e-02,  3.9206e-03,\n",
      "         -3.4119e-02, -5.3555e-02, -1.0314e-01, -6.3524e-02, -1.0034e-01,\n",
      "          6.9610e-02, -6.1075e-02, -2.4097e-02, -2.6013e-02,  3.9797e-02,\n",
      "         -2.6167e-02,  2.2321e-02, -8.9136e-02, -9.0658e-02],\n",
      "        [-8.9435e-02,  7.9894e-02, -1.4175e-02,  7.6009e-02, -8.4725e-02,\n",
      "          9.0110e-02,  6.9306e-02, -3.2620e-02, -4.9093e-02, -2.8202e-02,\n",
      "         -2.5958e-02, -6.0727e-02,  4.3506e-03,  2.1738e-02, -1.0317e-01,\n",
      "         -3.1937e-02, -5.0643e-02,  2.6008e-02,  2.0404e-02,  7.4749e-03,\n",
      "          1.0458e-02, -1.8256e-02, -6.9984e-02, -1.5314e-02,  5.2986e-02,\n",
      "          3.0819e-02,  8.1302e-02,  1.0207e-01, -4.7586e-02,  1.0282e-01,\n",
      "         -3.5583e-03, -2.9422e-03,  1.0462e-02, -2.1325e-02,  9.0117e-02,\n",
      "         -8.8980e-02, -6.6449e-02, -1.0447e-01, -5.0470e-02,  5.5834e-02,\n",
      "          5.1366e-02, -7.6048e-02, -8.6564e-02,  7.5434e-02,  1.0415e-01,\n",
      "         -1.3843e-02, -2.4737e-02, -7.2134e-02,  4.2621e-02, -6.8566e-02,\n",
      "         -5.6369e-03,  7.4380e-02,  3.9530e-02, -3.7676e-02, -6.1786e-02,\n",
      "          9.6604e-02,  1.7058e-02, -7.8238e-02,  2.1691e-02, -8.1488e-02,\n",
      "         -1.0050e-01,  1.0548e-01,  8.7904e-02,  7.5555e-02,  6.4190e-03,\n",
      "         -7.1341e-02,  3.7411e-02,  4.1164e-02,  8.5027e-02,  6.1842e-02,\n",
      "          3.1788e-02,  5.1302e-02, -2.3686e-02, -1.4932e-02,  3.1345e-02,\n",
      "          5.6821e-02, -7.2908e-02,  1.0264e-01, -5.7915e-02,  1.0008e-02,\n",
      "         -1.4516e-02, -4.1543e-02,  4.7074e-02,  1.0337e-01],\n",
      "        [-3.9104e-02,  8.6817e-02,  8.6334e-02,  9.6106e-02, -5.9600e-02,\n",
      "          7.1583e-04,  9.4301e-02,  4.1460e-04, -6.3317e-02, -9.2911e-02,\n",
      "         -1.1597e-02, -4.8488e-02, -8.5108e-02, -9.5510e-02, -7.7686e-02,\n",
      "          1.5152e-02,  4.7932e-02, -2.6829e-02, -1.0726e-01, -1.0005e-02,\n",
      "          1.5222e-02,  8.3139e-02,  5.9574e-02,  1.0347e-01,  9.4035e-02,\n",
      "          7.5479e-02,  6.0624e-02, -6.6082e-02,  8.1773e-02,  1.0336e-01,\n",
      "          4.0142e-02, -2.5197e-02,  4.4550e-02,  3.4148e-03, -2.2414e-02,\n",
      "         -1.9463e-02, -2.8592e-02,  6.4281e-02, -1.8441e-02,  2.8964e-02,\n",
      "          5.3921e-02,  2.2596e-02,  1.0595e-01, -8.2949e-02,  4.8696e-02,\n",
      "          4.4263e-02, -2.3482e-02, -3.6033e-03,  7.2510e-02, -9.7148e-02,\n",
      "          8.8404e-02,  9.7362e-02,  6.5459e-02, -6.0360e-02,  1.2720e-02,\n",
      "          3.0626e-04, -1.0379e-01, -2.2157e-04, -5.1526e-02, -5.2246e-02,\n",
      "          3.1468e-02,  9.6884e-02, -3.8322e-02, -6.4482e-02, -4.2490e-03,\n",
      "          6.8517e-02, -6.0250e-03,  4.0588e-02, -1.0381e-01, -1.0033e-01,\n",
      "          8.0588e-02,  8.5545e-02, -6.1280e-02, -5.3359e-04,  2.7925e-03,\n",
      "         -6.2275e-02, -8.6498e-02,  1.0025e-01, -9.7333e-02,  4.9238e-02,\n",
      "          7.0437e-02, -7.9229e-02, -7.8139e-02,  1.6791e-02],\n",
      "        [-9.3788e-02,  4.8803e-02,  4.8163e-02,  7.9925e-02, -1.0755e-01,\n",
      "          4.7267e-02, -4.9362e-02, -7.2911e-02,  6.5400e-02, -3.6094e-02,\n",
      "          9.7989e-02,  9.1345e-02, -5.0017e-02,  4.6403e-02,  6.5262e-03,\n",
      "         -8.8932e-02,  1.0828e-01,  8.4072e-03,  6.9018e-02, -2.3151e-02,\n",
      "         -2.9902e-02,  1.2272e-02, -6.8003e-02,  3.5463e-02, -1.0366e-01,\n",
      "          8.9505e-03, -1.8253e-02, -2.2941e-03,  9.0094e-02,  7.6260e-02,\n",
      "          9.1747e-03, -1.0594e-01, -9.2730e-02,  6.1508e-02,  3.3104e-02,\n",
      "          8.4390e-02, -6.2146e-03, -2.6647e-02, -1.0744e-01, -7.1202e-02,\n",
      "          8.6340e-02, -7.4278e-02,  1.0161e-01, -1.0395e-01,  1.0872e-01,\n",
      "          2.8467e-02,  4.7078e-02,  1.6560e-02, -2.5652e-02,  3.7949e-02,\n",
      "          2.5324e-02, -1.2711e-02, -8.6651e-02, -5.8332e-02,  7.0747e-02,\n",
      "         -5.9630e-03, -7.4945e-02,  8.6860e-02, -9.3453e-02, -2.7351e-05,\n",
      "          7.3386e-02,  7.1869e-02, -6.3198e-02, -3.1276e-02,  3.7704e-02,\n",
      "         -3.5022e-02, -5.1407e-02, -6.0454e-02, -9.2670e-02, -3.9716e-02,\n",
      "         -6.7916e-02, -7.2046e-02,  3.1790e-02,  6.4959e-02,  5.0292e-02,\n",
      "         -4.4610e-02,  5.8837e-02, -9.5344e-02,  3.5846e-02, -3.1618e-02,\n",
      "          4.3820e-02, -8.6380e-03, -8.0375e-02,  6.2986e-02],\n",
      "        [-8.3841e-02,  5.4771e-02, -7.6838e-02, -1.0818e-01, -1.0327e-01,\n",
      "          6.5153e-02,  8.4388e-02, -1.0528e-01,  5.8443e-02,  1.1880e-03,\n",
      "          9.1516e-02,  5.4556e-03, -3.6894e-02, -4.0739e-02,  3.3493e-02,\n",
      "         -2.2135e-02,  8.2636e-02, -1.1059e-02, -4.7187e-02, -2.7163e-02,\n",
      "         -2.5487e-02,  5.0087e-02,  3.5451e-02, -4.2570e-02, -6.1694e-02,\n",
      "         -8.4557e-02,  1.3180e-03,  3.6960e-02, -4.9312e-02,  3.7343e-02,\n",
      "          4.4773e-02, -4.7469e-02,  6.6232e-02, -6.4927e-02,  1.0157e-01,\n",
      "          2.9655e-02, -2.5301e-02,  5.8443e-02,  8.1174e-03,  1.1208e-02,\n",
      "          3.2887e-02, -4.7488e-02,  7.8689e-02,  2.6635e-02, -2.4781e-03,\n",
      "          7.2261e-02, -5.1083e-02, -9.3536e-02,  4.5024e-02, -5.2271e-02,\n",
      "          5.4200e-02, -4.4852e-02, -1.8856e-02, -1.0057e-01, -5.0565e-02,\n",
      "         -1.8761e-02, -8.7040e-02,  5.4774e-02,  4.3443e-02, -5.4055e-02,\n",
      "          8.3014e-02, -2.8369e-02, -4.4268e-02,  6.3615e-02, -1.0069e-01,\n",
      "         -7.1902e-03,  9.3382e-02,  4.0384e-02,  2.0772e-02, -2.0269e-02,\n",
      "         -1.4330e-02, -5.7649e-02,  9.3820e-02, -5.9743e-02, -1.8309e-02,\n",
      "          6.0178e-02,  1.9705e-02,  4.4858e-03, -4.1242e-02,  1.5386e-02,\n",
      "          1.0920e-02,  1.0395e-01, -8.4272e-02, -9.1667e-02],\n",
      "        [-5.1266e-02,  9.1933e-02, -6.0030e-03,  8.4803e-02,  4.2325e-02,\n",
      "         -7.4251e-02,  6.0215e-02, -2.4834e-02,  8.5028e-02, -6.2274e-02,\n",
      "          4.6754e-02, -1.6014e-02,  1.0554e-02,  5.1835e-02, -7.6302e-02,\n",
      "         -6.7828e-02, -7.0432e-02, -9.4664e-02,  9.9198e-03,  4.1016e-02,\n",
      "          4.5187e-02, -1.0523e-01, -4.2486e-02, -7.9172e-02, -2.1819e-02,\n",
      "         -9.2207e-02,  2.3168e-02,  4.4358e-02,  4.2082e-02, -1.0447e-01,\n",
      "          9.9078e-02, -7.2371e-02, -4.1376e-02,  3.0071e-02,  6.4750e-02,\n",
      "         -6.8538e-02,  9.3369e-02,  3.7239e-02, -2.7435e-02,  9.4849e-02,\n",
      "          6.6423e-02, -6.3466e-02, -1.0188e-01, -4.5522e-02,  2.2846e-03,\n",
      "         -9.3777e-02,  9.0402e-02, -1.0592e-01,  5.7546e-02, -6.3331e-02,\n",
      "          2.3207e-02, -1.3629e-02,  8.5133e-02, -1.6952e-03,  1.8676e-02,\n",
      "         -4.9167e-02, -8.5755e-02, -3.1085e-02,  8.7532e-02,  3.9910e-02,\n",
      "          4.6942e-02,  2.9733e-02,  1.0757e-01, -6.2620e-02,  9.5246e-02,\n",
      "          2.3679e-02,  9.1573e-04,  8.8902e-02, -1.0218e-02,  5.5373e-02,\n",
      "          3.4568e-02, -4.3671e-02, -4.8042e-02,  3.7721e-02, -9.3588e-02,\n",
      "         -3.8673e-02,  4.9144e-02,  6.1428e-02,  4.7763e-02,  9.3120e-02,\n",
      "          8.6758e-02, -1.0638e-01, -4.9818e-02, -7.3349e-02],\n",
      "        [ 3.7466e-02,  2.7723e-02, -7.6700e-03, -2.9556e-03, -5.6813e-02,\n",
      "         -1.0155e-01,  7.3977e-02, -3.2202e-02, -2.1813e-02,  2.6273e-02,\n",
      "          3.6814e-02, -2.8564e-02, -8.6813e-03,  3.7656e-02,  2.3268e-02,\n",
      "          1.0177e-01, -9.2137e-02, -9.9876e-02, -2.4492e-02,  3.5966e-02,\n",
      "         -6.6224e-02, -6.0691e-02, -5.2145e-02,  2.5123e-02, -4.2232e-02,\n",
      "          7.0041e-02,  6.9612e-02,  9.6957e-02,  7.1224e-02, -9.2237e-02,\n",
      "          2.0249e-02, -3.1780e-02, -2.4811e-02,  2.7627e-02, -4.5551e-02,\n",
      "          8.4848e-02,  3.1642e-02, -4.0563e-02, -8.1177e-02, -9.7246e-02,\n",
      "         -1.0873e-01,  1.0071e-02,  3.0761e-02, -1.0881e-01, -9.7979e-03,\n",
      "          7.0475e-02,  6.8900e-02,  8.8978e-02, -5.7201e-02,  1.0570e-01,\n",
      "          4.1825e-02, -1.0281e-01, -1.0895e-01, -8.0018e-02, -7.8201e-02,\n",
      "         -8.3370e-03, -1.0416e-01, -2.0217e-02,  3.1202e-02,  4.0280e-02,\n",
      "         -2.6789e-02,  3.1316e-02, -1.2592e-02, -7.6359e-02, -7.6889e-02,\n",
      "          5.0069e-02,  6.6145e-02,  5.4088e-02,  3.8139e-02,  9.4134e-02,\n",
      "          2.7631e-02,  5.7744e-03,  8.5022e-02, -8.7655e-02, -4.3326e-02,\n",
      "          8.5613e-02, -8.9212e-02, -8.4351e-03, -4.8600e-02, -9.2431e-02,\n",
      "          6.4288e-02, -8.3104e-02,  3.6463e-02,  1.5148e-02],\n",
      "        [-2.3734e-02,  5.3905e-02,  6.9554e-03,  3.5371e-02, -4.1969e-02,\n",
      "         -4.0862e-02,  8.1069e-02,  1.8674e-02,  3.2623e-02,  1.7813e-02,\n",
      "          5.0792e-02,  8.4790e-02,  7.7719e-02,  1.5020e-02, -1.0925e-02,\n",
      "         -6.1490e-02, -6.8859e-03, -4.6359e-02, -1.7784e-02, -5.2174e-02,\n",
      "          3.9421e-02, -6.5852e-02,  3.9715e-02,  9.3481e-02, -5.1323e-02,\n",
      "          6.0214e-02, -6.3875e-02, -5.8387e-02, -8.3928e-02,  8.4356e-02,\n",
      "          8.1748e-02,  3.4658e-02,  1.8460e-02, -1.0406e-01,  8.1372e-02,\n",
      "         -9.3547e-02, -5.8734e-02,  8.3086e-02,  1.0359e-01, -4.7706e-05,\n",
      "          2.7004e-02,  6.1403e-02,  3.2560e-02,  5.5806e-02, -5.4417e-02,\n",
      "         -4.6707e-02, -5.8597e-02,  9.3132e-02, -9.4865e-02,  6.3938e-02,\n",
      "          9.0948e-02,  7.7073e-02, -8.0369e-02, -6.4448e-02, -6.2847e-02,\n",
      "          9.2730e-02, -5.4591e-02, -1.2274e-02,  9.4228e-03,  4.5542e-02,\n",
      "         -2.5047e-02, -4.6830e-02, -4.5319e-02, -5.2895e-02,  2.6915e-02,\n",
      "         -1.0743e-01,  6.7680e-02, -5.0447e-02, -1.0052e-01,  1.0420e-02,\n",
      "          8.8826e-02, -7.7820e-02,  1.0822e-01,  8.2369e-02,  4.8378e-02,\n",
      "          3.7668e-02, -9.5826e-02,  5.8652e-02, -1.3569e-02, -1.7589e-03,\n",
      "          5.1175e-02, -3.7559e-02,  6.9812e-02,  1.0905e-01]],\n",
      "       requires_grad=True)\n",
      "('4.bias', 10)\n",
      "\n",
      "Parameter containing:\n",
      "tensor([-0.0269, -0.0180,  0.0072,  0.1081, -0.0327,  0.0317, -0.0443, -0.0035,\n",
      "         0.0758,  0.0554], requires_grad=True)\n"
     ]
    }
   ],
   "source": [
    "for name, p in mnist_classifier.named_parameters():\n",
    "    print((name, p.numel()), p, sep='\\n\\n')"
   ]
  },
  {
   "cell_type": "code",
   "execution_count": 28,
   "metadata": {},
   "outputs": [
    {
     "data": {
      "text/plain": [
       "105214"
      ]
     },
     "execution_count": 28,
     "metadata": {},
     "output_type": "execute_result"
    }
   ],
   "source": [
    "params = [p.numel() for p in mnist_classifier.parameters() if p.requires_grad]\n",
    "np.sum(params)"
   ]
  },
  {
   "attachments": {},
   "cell_type": "markdown",
   "metadata": {},
   "source": [
    "### Training and Evaluation"
   ]
  },
  {
   "cell_type": "code",
   "execution_count": 29,
   "metadata": {},
   "outputs": [
    {
     "data": {
      "text/plain": [
       "torch.Size([100, 1, 28, 28])"
      ]
     },
     "execution_count": 29,
     "metadata": {},
     "output_type": "execute_result"
    }
   ],
   "source": [
    "sample_batch, sample_labels = iter(train_loader).next()\n",
    "sample_batch.shape"
   ]
  },
  {
   "cell_type": "code",
   "execution_count": 30,
   "metadata": {},
   "outputs": [
    {
     "name": "stdout",
     "output_type": "stream",
     "text": [
      "torch.Size([100, 784])\n",
      "torch.Size([100, 784])\n",
      "torch.Size([100, 784])\n"
     ]
    }
   ],
   "source": [
    "print(sample_batch.flatten(1).shape)\n",
    "print(sample_batch.reshape(100, -1).shape)\n",
    "print(sample_batch.view(100, -1).shape)"
   ]
  },
  {
   "attachments": {},
   "cell_type": "markdown",
   "metadata": {},
   "source": [
    "reshape과 view 메소드의 차이\n",
    "- 기본적으로 동일하지만, tensor 상태가 contiguous(파이토치 메모리 내에서의 자료형 저장 상태; axis 순서대로 자료가 저장된 상태라면 contiguous하고, 자료 저장 순서가 transpose 등으로 인해 원래 방향과 어긋난 경우라면 contiguous하지 않다)하지 않을 경우 view 메소드는 사용하지 못한다. (https://jimmy-ai.tistory.com/122)"
   ]
  },
  {
   "cell_type": "code",
   "execution_count": 31,
   "metadata": {},
   "outputs": [
    {
     "data": {
      "text/plain": [
       "torch.Size([100, 10])"
      ]
     },
     "execution_count": 31,
     "metadata": {},
     "output_type": "execute_result"
    }
   ],
   "source": [
    "y_sample_pred = mnist_classifier(sample_batch.view(100, -1))\n",
    "# y_sample_pred = F.log_softmax(y_sample_pred, dim=1)\n",
    "y_sample_pred.shape"
   ]
  },
  {
   "cell_type": "markdown",
   "metadata": {},
   "source": [
    "nn.CrossEntropyLoss()를 사용하면서 nn.Sequential() 마지막 layer에 nn.Softmax()를 넣어주지 않았는데,  \n",
    "train 과정에서 prediction 구할 때에는 logit 값에 추가적으로 softmax()를 씌워줘서 argmax를 해야하나?\n",
    "- softmax는 x가 증가함에 따라 y가 증가하는 함수이므로 logit 값으로 argmax를 하든, softmax(logit) 값으로 argmax를 하든 그 결과는 달라지지 않는다.\n",
    "- 따라서 train에서 acc를 구할 떄에도 그냥 logit 값에다가 argmax를 해도 상관없을듯!"
   ]
  },
  {
   "cell_type": "code",
   "execution_count": 36,
   "metadata": {},
   "outputs": [
    {
     "data": {
      "text/plain": [
       "tensor([9, 9, 9, 9, 3, 9, 9, 3, 9, 9, 9, 9, 3, 9, 9, 9, 9, 9, 9, 9, 9, 9, 9, 3,\n",
       "        3, 9, 9, 9, 9, 9, 9, 9, 9, 9, 3, 9, 9, 9, 9, 9, 3, 8, 3, 9, 9, 9, 9, 9,\n",
       "        9, 9, 9, 9, 9, 9, 9, 9, 9, 9, 9, 9, 9, 9, 9, 3, 9, 9, 3, 9, 9, 9, 9, 9,\n",
       "        9, 9, 9, 9, 9, 9, 9, 9, 9, 3, 3, 9, 9, 9, 9, 9, 3, 9, 9, 9, 9, 8, 9, 9,\n",
       "        9, 9, 9, 3])"
      ]
     },
     "execution_count": 36,
     "metadata": {},
     "output_type": "execute_result"
    }
   ],
   "source": [
    "val, idx = torch.max(y_sample_pred, dim=1)\n",
    "idx"
   ]
  },
  {
   "cell_type": "code",
   "execution_count": 35,
   "metadata": {},
   "outputs": [
    {
     "data": {
      "text/plain": [
       "tensor([9, 9, 9, 9, 3, 9, 9, 3, 9, 9, 9, 9, 3, 9, 9, 9, 9, 9, 9, 9, 9, 9, 9, 3,\n",
       "        3, 9, 9, 9, 9, 9, 9, 9, 9, 9, 3, 9, 9, 9, 9, 9, 3, 8, 3, 9, 9, 9, 9, 9,\n",
       "        9, 9, 9, 9, 9, 9, 9, 9, 9, 9, 9, 9, 9, 9, 9, 3, 9, 9, 3, 9, 9, 9, 9, 9,\n",
       "        9, 9, 9, 9, 9, 9, 9, 9, 9, 3, 3, 9, 9, 9, 9, 9, 3, 9, 9, 9, 9, 8, 9, 9,\n",
       "        9, 9, 9, 3])"
      ]
     },
     "execution_count": 35,
     "metadata": {},
     "output_type": "execute_result"
    }
   ],
   "source": [
    "val, idx = torch.max(F.softmax(y_sample_pred, dim=1), dim=1)\n",
    "idx"
   ]
  },
  {
   "cell_type": "code",
   "execution_count": 37,
   "metadata": {},
   "outputs": [],
   "source": [
    "class Loss:\n",
    "    train: list = []\n",
    "    test: list = []\n",
    "    \n",
    "class Accuracy:\n",
    "    train: list = []\n",
    "    test: list = []"
   ]
  },
  {
   "cell_type": "code",
   "execution_count": 39,
   "metadata": {},
   "outputs": [
    {
     "name": "stderr",
     "output_type": "stream",
     "text": [
      "  0%|          | 0/10 [00:00<?, ?it/s]"
     ]
    },
    {
     "name": "stdout",
     "output_type": "stream",
     "text": [
      "Epoch: 0 Batch:200 Loss:0.1969 Accuracy:95.7750%\n",
      "Epoch: 0 Batch:400 Loss:0.1378 Accuracy:95.8650%\n",
      "Epoch: 0 Batch:600 Loss:0.1190 Accuracy:96.0217%\n"
     ]
    },
    {
     "name": "stderr",
     "output_type": "stream",
     "text": [
      " 10%|█         | 1/10 [00:24<03:43, 24.88s/it]"
     ]
    },
    {
     "name": "stdout",
     "output_type": "stream",
     "text": [
      "Epoch: 1 Batch:200 Loss:0.0714 Accuracy:96.9550%\n",
      "Epoch: 1 Batch:400 Loss:0.0520 Accuracy:97.0975%\n",
      "Epoch: 1 Batch:600 Loss:0.0528 Accuracy:97.0633%\n"
     ]
    },
    {
     "name": "stderr",
     "output_type": "stream",
     "text": [
      " 20%|██        | 2/10 [00:48<03:13, 24.15s/it]"
     ]
    },
    {
     "name": "stdout",
     "output_type": "stream",
     "text": [
      "Epoch: 2 Batch:200 Loss:0.0507 Accuracy:97.6850%\n",
      "Epoch: 2 Batch:400 Loss:0.1454 Accuracy:97.6800%\n",
      "Epoch: 2 Batch:600 Loss:0.0749 Accuracy:97.6967%\n"
     ]
    },
    {
     "name": "stderr",
     "output_type": "stream",
     "text": [
      " 30%|███       | 3/10 [01:11<02:45, 23.58s/it]"
     ]
    },
    {
     "name": "stdout",
     "output_type": "stream",
     "text": [
      "Epoch: 3 Batch:200 Loss:0.0702 Accuracy:98.1400%\n",
      "Epoch: 3 Batch:400 Loss:0.0353 Accuracy:98.0725%\n",
      "Epoch: 3 Batch:600 Loss:0.0606 Accuracy:98.0700%\n"
     ]
    },
    {
     "name": "stderr",
     "output_type": "stream",
     "text": [
      " 40%|████      | 4/10 [01:36<02:25, 24.22s/it]"
     ]
    },
    {
     "name": "stdout",
     "output_type": "stream",
     "text": [
      "Epoch: 4 Batch:200 Loss:0.0242 Accuracy:98.5600%\n",
      "Epoch: 4 Batch:400 Loss:0.0451 Accuracy:98.3925%\n",
      "Epoch: 4 Batch:600 Loss:0.0434 Accuracy:98.4467%\n"
     ]
    },
    {
     "name": "stderr",
     "output_type": "stream",
     "text": [
      " 50%|█████     | 5/10 [01:58<01:57, 23.51s/it]"
     ]
    },
    {
     "name": "stdout",
     "output_type": "stream",
     "text": [
      "Epoch: 5 Batch:200 Loss:0.0535 Accuracy:98.6600%\n",
      "Epoch: 5 Batch:400 Loss:0.0127 Accuracy:98.6775%\n",
      "Epoch: 5 Batch:600 Loss:0.1138 Accuracy:98.6617%\n"
     ]
    },
    {
     "name": "stderr",
     "output_type": "stream",
     "text": [
      " 60%|██████    | 6/10 [02:21<01:33, 23.38s/it]"
     ]
    },
    {
     "name": "stdout",
     "output_type": "stream",
     "text": [
      "Epoch: 6 Batch:200 Loss:0.0464 Accuracy:99.0550%\n",
      "Epoch: 6 Batch:400 Loss:0.0277 Accuracy:98.9750%\n",
      "Epoch: 6 Batch:600 Loss:0.0988 Accuracy:98.9417%\n"
     ]
    },
    {
     "name": "stderr",
     "output_type": "stream",
     "text": [
      " 70%|███████   | 7/10 [02:57<01:22, 27.47s/it]"
     ]
    },
    {
     "name": "stdout",
     "output_type": "stream",
     "text": [
      "Epoch: 7 Batch:200 Loss:0.0656 Accuracy:99.2950%\n",
      "Epoch: 7 Batch:400 Loss:0.0287 Accuracy:99.1475%\n",
      "Epoch: 7 Batch:600 Loss:0.0711 Accuracy:99.1267%\n"
     ]
    },
    {
     "name": "stderr",
     "output_type": "stream",
     "text": [
      " 80%|████████  | 8/10 [03:35<01:01, 30.67s/it]"
     ]
    },
    {
     "name": "stdout",
     "output_type": "stream",
     "text": [
      "Epoch: 8 Batch:200 Loss:0.0344 Accuracy:99.3350%\n",
      "Epoch: 8 Batch:400 Loss:0.0594 Accuracy:99.2650%\n",
      "Epoch: 8 Batch:600 Loss:0.0287 Accuracy:99.2250%\n"
     ]
    },
    {
     "name": "stderr",
     "output_type": "stream",
     "text": [
      " 90%|█████████ | 9/10 [04:05<00:30, 30.38s/it]"
     ]
    },
    {
     "name": "stdout",
     "output_type": "stream",
     "text": [
      "Epoch: 9 Batch:200 Loss:0.0093 Accuracy:99.4500%\n",
      "Epoch: 9 Batch:400 Loss:0.0047 Accuracy:99.3575%\n",
      "Epoch: 9 Batch:600 Loss:0.0138 Accuracy:99.3417%\n"
     ]
    },
    {
     "name": "stderr",
     "output_type": "stream",
     "text": [
      "100%|██████████| 10/10 [04:31<00:00, 27.19s/it]\n"
     ]
    }
   ],
   "source": [
    "epochs = 10\n",
    "for epoch in tqdm(range(epochs)):\n",
    "    train_corr_cnt = 0\n",
    "    test_corr_cnt = 0\n",
    "    \n",
    "    # train\n",
    "    for batch_idx, (img, label) in enumerate(train_loader, 1):\n",
    "        y_pred = mnist_classifier(img.view(100, -1))\n",
    "        loss = loss_func(y_pred, label) ##### 이 부분 체크 -> nn.CrossEntropyLoss()\n",
    "        \n",
    "        _, prediction = torch.max(y_pred, dim=1)\n",
    "        train_corr_cnt += (prediction == label).sum()\n",
    "        \n",
    "        optimizer.zero_grad()\n",
    "        loss.backward()\n",
    "        optimizer.step()\n",
    "        \n",
    "        if batch_idx % 200 == 0:\n",
    "            acc = 100 * (train_corr_cnt / (batch_idx*100))\n",
    "            print(f\"Epoch:{epoch:2d} Batch:{batch_idx:2d} Loss:{loss:4.4f} Accuracy:{acc:4.4f}%\")\n",
    "            \n",
    "    Loss.train.append(loss)\n",
    "    accuracy = 100 * (train_corr_cnt / (batch_idx*100))\n",
    "    Accuracy.train.append(accuracy)\n",
    "    \n",
    "    # validation (test)\n",
    "    with torch.no_grad():\n",
    "        for batch_idx, (img, label) in enumerate(test_loader, 1):\n",
    "            y_val = mnist_classifier(img.view(500, -1))\n",
    "            _, predicted = torch.max(y_val, dim=1)\n",
    "            test_corr_cnt += (predicted == label).sum()\n",
    "            \n",
    "    loss = loss_func(y_val, label)\n",
    "    Loss.test.append(loss)\n",
    "    accuracy = 100 * (test_corr_cnt / (batch_idx * 500))\n",
    "    Accuracy.test.append(accuracy)"
   ]
  },
  {
   "cell_type": "code",
   "execution_count": 44,
   "metadata": {},
   "outputs": [],
   "source": [
    "Loss.train = [i.item() for i in Loss.train]\n",
    "Loss.test = [i.item() for i in Loss.test]\n",
    "Accuracy.train = [i.item() for i in Accuracy.train]\n",
    "Accuracy.test = [i.item() for i in Accuracy.test]"
   ]
  },
  {
   "cell_type": "code",
   "execution_count": 46,
   "metadata": {},
   "outputs": [
    {
     "data": {
      "image/png": "[encoded data removed]",
      "text/plain": [
       "<Figure size 864x288 with 2 Axes>"
      ]
     },
     "metadata": {
      "needs_background": "light"
     },
     "output_type": "display_data"
    }
   ],
   "source": [
    "fig, ax = plt.subplots(nrows=1, ncols=2, figsize=(12,4))\n",
    "ax[0].plot(Loss.train, label = 'Training')\n",
    "ax[0].plot(Loss.test, label='test/validation')\n",
    "ax[0].set_ylabel('Loss', fontsize=16)\n",
    "\n",
    "\n",
    "ax[1].plot(Accuracy.train, label = 'Training')\n",
    "ax[1].plot(Accuracy.test, label='test/validation')\n",
    "ax[1].set_yticks(range(85,110,5))\n",
    "ax[1].axvline(x=2, color='gray', linestyle=':')\n",
    "ax[1].axhline(y=100, color='gray', linestyle=':')\n",
    "ax[1].set_ylabel('Accuracy (%)', fontsize=16)\n",
    "\n",
    "for myax in ax:\n",
    "    myax.set_xlabel('Epoch', fontsize=16)\n",
    "    myax.set_xticks(range(epochs))\n",
    "    myax.legend(frameon=False)"
   ]
  },
  {
   "cell_type": "code",
   "execution_count": 49,
   "metadata": {},
   "outputs": [
    {
     "name": "stdout",
     "output_type": "stream",
     "text": [
      "Test Accuracy: 97.7400%\n"
     ]
    }
   ],
   "source": [
    "test_loader = DataLoader(test_data, batch_size=10000, shuffle=False)\n",
    "\n",
    "with torch.no_grad():\n",
    "    correct = 0\n",
    "    \n",
    "    for X, y_label in test_loader:\n",
    "        y_val = mnist_classifier(X.view(X.shape[0], -1)) # flatten\n",
    "        _, predicted= torch.max(y_val, dim=1)\n",
    "        correct += (predicted == y_label).sum()\n",
    "        \n",
    "print(f\"Test Accuracy: {correct.item()*100/len(test_data):2.4f}%\")"
   ]
  },
  {
   "cell_type": "code",
   "execution_count": 50,
   "metadata": {},
   "outputs": [
    {
     "data": {
      "text/plain": [
       "array([[ 967,    0,    0,    2,    0,    4,    1,    2,    3,    1],\n",
       "       [   0, 1127,    3,    0,    0,    0,    1,    0,    4,    0],\n",
       "       [   4,    3, 1006,    2,    2,    0,    1,    5,    9,    0],\n",
       "       [   0,    1,    3,  986,    0,    5,    0,    4,    5,    6],\n",
       "       [   0,    0,    4,    0,  964,    1,    3,    2,    2,    6],\n",
       "       [   2,    0,    0,    8,    1,  876,    1,    0,    3,    1],\n",
       "       [   2,    3,    0,    1,    7,    5,  930,    3,    7,    0],\n",
       "       [   1,    6,    7,    0,    0,    0,    0, 1005,    4,    5],\n",
       "       [   5,    0,    2,    3,    2,    7,    1,    4,  950,    0],\n",
       "       [   3,    2,    0,    5,   15,    6,    0,    9,    6,  963]],\n",
       "      dtype=int64)"
      ]
     },
     "execution_count": 50,
     "metadata": {},
     "output_type": "execute_result"
    }
   ],
   "source": [
    "from sklearn.metrics import confusion_matrix  # for evaluating results\n",
    "confusion_array = confusion_matrix(y_true = y_label,y_pred = predicted)\n",
    "confusion_array"
   ]
  },
  {
   "cell_type": "code",
   "execution_count": 51,
   "metadata": {},
   "outputs": [
    {
     "data": {
      "text/plain": [
       "<AxesSubplot:>"
      ]
     },
     "execution_count": 51,
     "metadata": {},
     "output_type": "execute_result"
    },
    {
     "data": {
      "image/png": "[encoded data removed]",
      "text/plain": [
       "<Figure size 720x504 with 2 Axes>"
      ]
     },
     "metadata": {
      "needs_background": "light"
     },
     "output_type": "display_data"
    }
   ],
   "source": [
    "import pandas as pd\n",
    "import seaborn as sn\n",
    "df_cm = pd.DataFrame(confusion_array, range(10), range(10))\n",
    "plt.figure(figsize=(10,7))\n",
    "sn.set(font_scale=1.4) # for label size\n",
    "sn.heatmap(df_cm, annot=True, annot_kws={\"size\": 10}) # font size"
   ]
  }
 ],
 "metadata": {
  "kernelspec": {
   "display_name": "workspace",
   "language": "python",
   "name": "python3"
  },
  "language_info": {
   "codemirror_mode": {
    "name": "ipython",
    "version": 3
   },
   "file_extension": ".py",
   "mimetype": "text/x-python",
   "name": "python",
   "nbconvert_exporter": "python",
   "pygments_lexer": "ipython3",
   "version": "3.8.11"
  },
  "orig_nbformat": 4
 },
 "nbformat": 4,
 "nbformat_minor": 2
}
