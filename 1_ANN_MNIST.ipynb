{
 "cells": [
  {
   "cell_type": "markdown",
   "metadata": {},
   "source": [
    "Reference  \n",
    "https://www.kaggle.com/code/joseguzman/pytorch-simple-ann-for-mnist"
   ]
  },
  {
   "cell_type": "code",
   "execution_count": 1,
   "metadata": {},
   "outputs": [],
   "source": [
    "import torch\n",
    "import torch.nn as nn\n",
    "import torch.nn.functional as F\n",
    "\n",
    "from torch.utils.data import DataLoader\n",
    "from torchvision import datasets, transforms\n",
    "\n",
    "import numpy as np\n",
    "import matplotlib.pyplot as plt\n",
    "from tqdm import tqdm"
   ]
  },
  {
   "attachments": {},
   "cell_type": "markdown",
   "metadata": {},
   "source": [
    "### Download and Load MNIST Dataset"
   ]
  },
  {
   "cell_type": "code",
   "execution_count": null,
   "metadata": {},
   "outputs": [],
   "source": [
    "### 기능: torchvision에서 제공하는 MNIST 데이터셋을 download 후 load한다.\n",
    "### Params\n",
    "    # train: True면 train-images-idx3-ubyte로부터 학습용 데이터셋(60,000개)을, False면 t10k-images-idx3-ubyte로부터 테스트용 데이터셋(10,000개)을 만든다.\n",
    "    # transform: PIL image(input)에 적용시킬 함수. 여기서는 torchvision.transforms의 ToTensor() 함수로 지정.\n",
    "        ### ToTensor() 함수: (H x W x C) [0, 255] 사잇값의 PIL 이미지 혹은 ndarray를 (C x H x W) [0.0, 1.0] 사잇값의 torch.FloatTensor로 변환하는 함수\n",
    "        \n",
    "train_data = datasets.MNIST(root='./dataset', download=False, train=True, transform=transforms.ToTensor())\n",
    "test_data = datasets.MNIST(root='./dataset', download=False, train=False, transform=transforms.ToTensor())"
   ]
  },
  {
   "cell_type": "code",
   "execution_count": 8,
   "metadata": {},
   "outputs": [
    {
     "data": {
      "text/plain": [
       "(torch.Size([1, 28, 28]), 5)"
      ]
     },
     "execution_count": 8,
     "metadata": {},
     "output_type": "execute_result"
    }
   ],
   "source": [
    "img_sample, label_sample = train_data[0]\n",
    "img_sample.shape, label_sample"
   ]
  },
  {
   "cell_type": "code",
   "execution_count": 5,
   "metadata": {},
   "outputs": [
    {
     "data": {
      "text/plain": [
       "(-0.5, 27.5, 27.5, -0.5)"
      ]
     },
     "execution_count": 5,
     "metadata": {},
     "output_type": "execute_result"
    },
    {
     "data": {
      "image/png": "[encoded data removed]",
      "text/plain": [
       "<Figure size 432x288 with 1 Axes>"
      ]
     },
     "metadata": {
      "needs_background": "light"
     },
     "output_type": "display_data"
    }
   ],
   "source": [
    "### imshow() 함수\n",
    "    # PIL image 또는 ndarray 데이터를 이미지로 보여주는 함수\n",
    "    # (M, N), (M, N, 3), 또는 (M, N, 4) shape을 input으로 받으므로 img_sample(1x28x28)은 squeeze()를 통해 shape을 (28,28)로 만들어준다.\n",
    "    # cmap을 무슨 색깔로 지정해주는지에 따라 사진 색깔이 달라진다.\n",
    "\n",
    "plt.imshow(img_sample.squeeze(), cmap='gray')\n",
    "plt.axis('off')   # 주위에 axis 안보이게 하기"
   ]
  },
  {
   "attachments": {},
   "cell_type": "markdown",
   "metadata": {},
   "source": [
    "### DataLoader"
   ]
  },
  {
   "cell_type": "code",
   "execution_count": 10,
   "metadata": {},
   "outputs": [],
   "source": [
    "# shuffle 시의 결과가 항상 동일하도록 seed를 설정\n",
    "torch.manual_seed(101)\n",
    "\n",
    "### 기능: dataset을 받아 iterable한 객체를 만들어준다.\n",
    "### Params\n",
    "    # batch_size: 한 step에서 학습할 데이터의 개수\n",
    "    # shuffle: True이면 매 epoch마다 데이터를 새롭게 shuffle한 후 batch_size만큼 나눈다.\n",
    "    \n",
    "train_loader = DataLoader(train_data, batch_size=100, shuffle=True)\n",
    "test_loader = DataLoader(test_data, batch_size=500, shuffle=False)"
   ]
  },
  {
   "cell_type": "code",
   "execution_count": 11,
   "metadata": {},
   "outputs": [
    {
     "name": "stdout",
     "output_type": "stream",
     "text": [
      "torch.Size([100, 1, 28, 28]) torch.Size([100])\n"
     ]
    }
   ],
   "source": [
    "for sample_batch, sample_label in train_loader:\n",
    "    print(sample_batch.shape, sample_label.shape)\n",
    "    break"
   ]
  },
  {
   "attachments": {},
   "cell_type": "markdown",
   "metadata": {},
   "source": [
    "### Create the Network"
   ]
  },
  {
   "cell_type": "code",
   "execution_count": 28,
   "metadata": {},
   "outputs": [],
   "source": [
    "### in_features: input 벡터 1개의 길이 (28x28 = 784)\n",
    "    # 신경망 가장 첫 번째 입력층의 노드 개수가 된다.\n",
    "### out_features: 신경망을 거쳐 나온 최종 output 벡터의 길이\n",
    "    # 신경망 가장 마지막 출력층의 노드 개수가 된다.\n",
    "    # MNIST classification은 10개 label 중 하나로 분류하는 문제이므로, 출력층에 10개 값에 대한 logit이 나오게 된다. 따라서 out_features = 10\n",
    "    \n",
    "in_features = 784\n",
    "out_features = 10"
   ]
  },
  {
   "cell_type": "code",
   "execution_count": 29,
   "metadata": {},
   "outputs": [],
   "source": [
    "# MNIST 분류를 위해 은닉층이 2개인 ANN 모델 구조 정의\n",
    "### nn.Sequential()\n",
    "    # layer_idx, layer를 key, value로 가지고 있는 ordered_dict 구조\n",
    "    # forward()를 하면 첫 번째부터 마지막 layer까지 순차적으로 실행\n",
    "### nn.Linear()\n",
    "    # (in_size, out_size)를 파라미터로 받아서 아래 값들을 저장\n",
    "    # self.weight: torch.empty(out_size, in_size)\n",
    "    # self.bias: torch.empty(out_size,)\n",
    "    # self.weight과 self.bias는 init.kaiming_uniform_()으로 weight random initialization\n",
    "\n",
    "mnist_classifier = nn.Sequential(\n",
    "    nn.Linear(in_features, 120),   # 첫 번째 입력층의 노드 개수는 input 벡터 길이인 784개\n",
    "    nn.ReLU(),   # 노드 개수가 120개인 첫 번째 은닉층 + ReLU() 활성화 함수 (비선형 구조로 만들기 위해 비선형 함수 사용)\n",
    "    nn.Linear(120, 84),\n",
    "    nn.ReLU(),   # 노드 개수가 84개인 두 번째 은닉층 + ReLU() 활성화 함수\n",
    "    nn.Linear(84, out_features)   # 마지막 출력층의 노드 개수는 10개. 활성함수 nn.Softmax()는 따로 정의하지 않는다 -> 오차함수 nn.CrossEntropyLoss()에서 log softmax로 변환하기 때문\n",
    ")\n",
    "\n",
    "# Multi-label classification이므로 오차함수는 CrossEntropyLoss() 사용, optimizer는 AdamW 사용\n",
    "loss_func = nn.CrossEntropyLoss()\n",
    "optimizer = torch.optim.AdamW(mnist_classifier.parameters(), lr=1e-3)"
   ]
  },
  {
   "attachments": {},
   "cell_type": "markdown",
   "metadata": {},
   "source": [
    "### Training and Evaluation"
   ]
  },
  {
   "cell_type": "code",
   "execution_count": 30,
   "metadata": {},
   "outputs": [],
   "source": [
    "# train, test 시에 loss와 accuracy를 저장할 클래스 정의\n",
    "class Loss:\n",
    "    train: list = []\n",
    "    test: list = []\n",
    "    \n",
    "class Accuracy:\n",
    "    train: list = []\n",
    "    test: list = []"
   ]
  },
  {
   "cell_type": "code",
   "execution_count": 31,
   "metadata": {},
   "outputs": [
    {
     "name": "stderr",
     "output_type": "stream",
     "text": [
      "  0%|          | 0/10 [00:00<?, ?it/s]"
     ]
    },
    {
     "name": "stdout",
     "output_type": "stream",
     "text": [
      "Epoch: 0 Batch:200 Loss:0.2553 Accuracy:83.1100%\n",
      "Epoch: 0 Batch:400 Loss:0.1418 Accuracy:87.4950%\n",
      "Epoch: 0 Batch:600 Loss:0.2595 Accuracy:89.5550%\n"
     ]
    },
    {
     "name": "stderr",
     "output_type": "stream",
     "text": [
      " 10%|█         | 1/10 [00:25<03:48, 25.43s/it]"
     ]
    },
    {
     "name": "stdout",
     "output_type": "stream",
     "text": [
      "Epoch: 1 Batch:200 Loss:0.2433 Accuracy:94.8550%\n",
      "Epoch: 1 Batch:400 Loss:0.1491 Accuracy:95.3250%\n",
      "Epoch: 1 Batch:600 Loss:0.1015 Accuracy:95.3867%\n"
     ]
    },
    {
     "name": "stderr",
     "output_type": "stream",
     "text": [
      " 20%|██        | 2/10 [00:50<03:20, 25.06s/it]"
     ]
    },
    {
     "name": "stdout",
     "output_type": "stream",
     "text": [
      "Epoch: 2 Batch:200 Loss:0.0444 Accuracy:96.7550%\n",
      "Epoch: 2 Batch:400 Loss:0.0370 Accuracy:96.7875%\n",
      "Epoch: 2 Batch:600 Loss:0.0933 Accuracy:96.8433%\n"
     ]
    },
    {
     "name": "stderr",
     "output_type": "stream",
     "text": [
      " 30%|███       | 3/10 [01:14<02:51, 24.47s/it]"
     ]
    },
    {
     "name": "stdout",
     "output_type": "stream",
     "text": [
      "Epoch: 3 Batch:200 Loss:0.0523 Accuracy:97.6550%\n",
      "Epoch: 3 Batch:400 Loss:0.0556 Accuracy:97.5575%\n",
      "Epoch: 3 Batch:600 Loss:0.0903 Accuracy:97.5267%\n"
     ]
    },
    {
     "name": "stderr",
     "output_type": "stream",
     "text": [
      " 40%|████      | 4/10 [01:33<02:13, 22.32s/it]"
     ]
    },
    {
     "name": "stdout",
     "output_type": "stream",
     "text": [
      "Epoch: 4 Batch:200 Loss:0.0347 Accuracy:98.0900%\n",
      "Epoch: 4 Batch:400 Loss:0.0485 Accuracy:98.0000%\n",
      "Epoch: 4 Batch:600 Loss:0.0338 Accuracy:97.9600%\n"
     ]
    },
    {
     "name": "stderr",
     "output_type": "stream",
     "text": [
      " 50%|█████     | 5/10 [01:54<01:49, 21.89s/it]"
     ]
    },
    {
     "name": "stdout",
     "output_type": "stream",
     "text": [
      "Epoch: 5 Batch:200 Loss:0.0952 Accuracy:98.3950%\n",
      "Epoch: 5 Batch:400 Loss:0.0459 Accuracy:98.3775%\n",
      "Epoch: 5 Batch:600 Loss:0.0404 Accuracy:98.3933%\n"
     ]
    },
    {
     "name": "stderr",
     "output_type": "stream",
     "text": [
      " 60%|██████    | 6/10 [02:16<01:28, 22.13s/it]"
     ]
    },
    {
     "name": "stdout",
     "output_type": "stream",
     "text": [
      "Epoch: 6 Batch:200 Loss:0.0145 Accuracy:98.7300%\n",
      "Epoch: 6 Batch:400 Loss:0.0407 Accuracy:98.6375%\n",
      "Epoch: 6 Batch:600 Loss:0.0673 Accuracy:98.6183%\n"
     ]
    },
    {
     "name": "stderr",
     "output_type": "stream",
     "text": [
      " 70%|███████   | 7/10 [02:39<01:06, 22.28s/it]"
     ]
    },
    {
     "name": "stdout",
     "output_type": "stream",
     "text": [
      "Epoch: 7 Batch:200 Loss:0.0658 Accuracy:98.9600%\n",
      "Epoch: 7 Batch:400 Loss:0.0828 Accuracy:98.9650%\n",
      "Epoch: 7 Batch:600 Loss:0.0429 Accuracy:98.9050%\n"
     ]
    },
    {
     "name": "stderr",
     "output_type": "stream",
     "text": [
      " 80%|████████  | 8/10 [03:03<00:45, 22.77s/it]"
     ]
    },
    {
     "name": "stdout",
     "output_type": "stream",
     "text": [
      "Epoch: 8 Batch:200 Loss:0.0388 Accuracy:99.2250%\n",
      "Epoch: 8 Batch:400 Loss:0.0272 Accuracy:99.1075%\n",
      "Epoch: 8 Batch:600 Loss:0.0059 Accuracy:99.0550%\n"
     ]
    },
    {
     "name": "stderr",
     "output_type": "stream",
     "text": [
      " 90%|█████████ | 9/10 [03:21<00:21, 21.52s/it]"
     ]
    },
    {
     "name": "stdout",
     "output_type": "stream",
     "text": [
      "Epoch: 9 Batch:200 Loss:0.0060 Accuracy:99.4050%\n",
      "Epoch: 9 Batch:400 Loss:0.0056 Accuracy:99.3075%\n",
      "Epoch: 9 Batch:600 Loss:0.0316 Accuracy:99.2167%\n"
     ]
    },
    {
     "name": "stderr",
     "output_type": "stream",
     "text": [
      "100%|██████████| 10/10 [03:42<00:00, 22.26s/it]\n"
     ]
    }
   ],
   "source": [
    "epochs = 10\n",
    "for epoch in tqdm(range(epochs)):\n",
    "    train_corr_cnt = 0   # 1 step 학습 시마다 pred와 label을 비교해 정답 개수를 저장할 변수\n",
    "    test_corr_cnt = 0    # 매 epoch 학습이 끝나고 test set으로 평가 진행 시, 1 step 평가 시마다 pred와 label을 비교해 정답 개수를 저장할 변수\n",
    "    \n",
    "    # train\n",
    "    for batch_idx, (img, label) in enumerate(train_loader, 1):\n",
    "        y_pred = mnist_classifier(img.view(100, -1))   # 현재 한 batch의 shape은 (100, 1, 28, 28)인데, 신경망 input으로 들어가려면 1차원 벡터여야 하므로 (100, 784)로 만들어준다. y_pred의 shape은 (100, 10)\n",
    "        loss = loss_func(y_pred, label)  # nn.CrossEntropyLoss()로 오차 계산\n",
    "        \n",
    "        _, prediction = torch.max(y_pred, dim=1)  # 10개 logit값 중에서 가장 큰 logit값을 찾고, 해당 값의 인덱스를 prediction 변수로 반환 # prediction.shape은 (100, )\n",
    "        train_corr_cnt += (prediction == label).sum()  # 1 학습 step마다 예측된 label값과 정답 label값 비교 후 True 개수를 train_corr_cnt에 누적하여 저장\n",
    "        \n",
    "        optimizer.zero_grad()  # optimizer 초기화\n",
    "        loss.backward()  # 오차역전파\n",
    "        optimizer.step()  # 모델 weight 업데이트\n",
    "        \n",
    "        # batch_idx가 200의 배수일 때마다 지금까지의 누적 accuracy를 출력한다.\n",
    "        # acc = (지금까지 맞춘 개수) / (지금까지 학습한 데이터 개수) * 100\n",
    "        if batch_idx % 200 == 0:\n",
    "            acc = (train_corr_cnt / (batch_idx*100)) * 100\n",
    "            print(f\"Epoch:{epoch:2d} Batch:{batch_idx:2d} Loss:{loss:4.4f} Accuracy:{acc:4.4f}%\")\n",
    "            \n",
    "    Loss.train.append(loss.item())   # 1 epoch 학습이 끝나면 가장 마지막 loss를 Loss.train에 저장한다. (loss는 Tensor 타입이므로 int로 저장하기 위해 item() 사용)\n",
    "    accuracy = 100 * (train_corr_cnt / (batch_idx*100))   # accuracy = (60,000개 학습 데이터 중 맞춘 개수) / 60,000개 * 100\n",
    "    Accuracy.train.append(accuracy.item())   # 1 epoch 학습이 끝나면 accuracy를 Accuracy.train에 저장한다.\n",
    "    \n",
    "    # validation (test)\n",
    "    with torch.no_grad():   # loss.backward()를 하지 않을 것이므로 gradient calculation을 비활성화시킨다. 이 모드에서는 파라미터들의 requires_grad = False가 된다.\n",
    "        for batch_idx, (img, label) in enumerate(test_loader, 1):\n",
    "            y_val = mnist_classifier(img.view(500, -1))   # 현재 한 test batch의 shape은 (500, 1, 28, 28)인데, 신경망 input으로 들어가려면 1차원 벡터여야 하므로 (500, 784)로 만들어준다. y_pred의 shape은 (500, 10)\n",
    "            _, predicted = torch.max(y_val, dim=1)   # 10개 logit값 중에서 가장 큰 logit값을 찾고, 해당 값의 인덱스를 predicted 변수로 반환 # predicted.shape은 (500, )\n",
    "            test_corr_cnt += (predicted == label).sum()   # 1 평가 step마다 예측된 label값과 정답 label값 비교 후 True 개수를 test_corr_cnt에 누적하여 저장\n",
    "            \n",
    "    loss = loss_func(y_val, label)   # 가장 마지막 loss 계산\n",
    "    Loss.test.append(loss.item())   # 1 epoch 평가가 끝나면 가장 마지막 loss를 Loss.test에 저장한다.\n",
    "    accuracy = 100 * (test_corr_cnt / (batch_idx * 500))   # accuracy = (10,000개 테스트 데이터 중 맞춘 개수) / 10,000개 * 100\n",
    "    Accuracy.test.append(accuracy.item())   # 1 epoch 평가가 끝나면 accuracy를 Accuracy.test에 저장한다."
   ]
  },
  {
   "cell_type": "code",
   "execution_count": 35,
   "metadata": {},
   "outputs": [
    {
     "data": {
      "image/png": "[encoded data removed]",
      "text/plain": [
       "<Figure size 864x288 with 2 Axes>"
      ]
     },
     "metadata": {
      "needs_background": "light"
     },
     "output_type": "display_data"
    }
   ],
   "source": [
    "# Loss, Accuracy 시각화\n",
    "fig, ax = plt.subplots(nrows=1, ncols=2, figsize=(12,4))   # 1행 2열, (12, 4) 사이즈의 그래프 그리기\n",
    "\n",
    "ax[0].plot(Loss.train, label = 'Training')   # 학습 시의 Loss 그래프 (매 epoch)\n",
    "ax[0].plot(Loss.test, label='test/validation')   # 평가 시의 Loss 그래프 (매 epoch)\n",
    "ax[0].set_ylabel('Loss', fontsize=16)   # y축 label 설정\n",
    "\n",
    "ax[1].plot(Accuracy.train, label = 'Training')   # 학습 시의 Accuracy 그래프 (매 epoch)\n",
    "ax[1].plot(Accuracy.test, label='test/validation')   # 평가 시의 Accuracy 그래프 (매 epoch)\n",
    "ax[1].set_yticks(range(85,110,5))   # y축의 눈금 label 설정\n",
    "ax[1].axvline(x=2.2, color='gray', linestyle=':')   # x=2 vertical line, 회색 점선 그리기\n",
    "ax[1].axhline(y=100, color='gray', linestyle=':')   # y=100 horizontal line, 회색 점선 그리기\n",
    "ax[1].set_ylabel('Accuracy (%)', fontsize=16)   # y축 label 설정\n",
    "\n",
    "for myax in ax:\n",
    "    myax.set_xlabel('Epoch', fontsize=16)   # x축 label 설정\n",
    "    myax.set_xticks(range(epochs))   # x축 눈금을 epoch_idx로 설정\n",
    "    myax.legend(frameon=False)   # legend의 frame 제거"
   ]
  },
  {
   "cell_type": "code",
   "execution_count": 36,
   "metadata": {},
   "outputs": [
    {
     "name": "stdout",
     "output_type": "stream",
     "text": [
      "Test Accuracy: 97.7600%\n"
     ]
    }
   ],
   "source": [
    "# 최종적인 test 성능 평가하기\n",
    "test_loader = DataLoader(test_data, batch_size=10000, shuffle=False)   # 모든 test data를 한 번에 다 써서 평가할 수 있도록 DataLoader 구성\n",
    "\n",
    "with torch.no_grad():   # gradient calculation 및 update를 진행하지 않을 것이므로 torch.no_grad() 선언\n",
    "    correct = 0   # 총 맞은 개수\n",
    "    \n",
    "    for X, y_label in test_loader:\n",
    "        y_val = mnist_classifier(X.view(X.shape[0], -1))   # 현 batch shape은 (10000, 1, 28, 28) -> 1차원 벡터로 변환해주어야 하므로 (10000, 784)로 reshape. y_val의 shape은 (10000,)\n",
    "        _, predicted= torch.max(y_val, dim=1)   # 10개 logit 중에서 가장 큰 값의 label을 추출하여 predicted 변수에 저장\n",
    "        correct += (predicted == y_label).sum()   # 예측 label과 정답 label을 비교하여 총 True의 개수를 구해 correct 변수에 누적합\n",
    "        \n",
    "print(f\"Test Accuracy: {correct.item()*100/len(test_data):2.4f}%\")   # correct 변수는 Tensor 타입이므로 int로 변환하고 총 테스트 데이터 개수로 나누어 최종 accuracy 구하기"
   ]
  },
  {
   "cell_type": "code",
   "execution_count": 37,
   "metadata": {},
   "outputs": [
    {
     "data": {
      "text/plain": [
       "array([[ 971,    1,    0,    0,    0,    0,    3,    1,    3,    1],\n",
       "       [   0, 1124,    3,    2,    0,    0,    2,    1,    3,    0],\n",
       "       [   6,    1, 1005,    3,    1,    0,    1,    9,    6,    0],\n",
       "       [   0,    1,    3,  989,    1,    3,    0,    6,    3,    4],\n",
       "       [   0,    0,    8,    0,  962,    0,    3,    4,    0,    5],\n",
       "       [   3,    0,    0,    9,    2,  866,    4,    2,    5,    1],\n",
       "       [   5,    1,    1,    1,    6,    2,  938,    0,    4,    0],\n",
       "       [   0,    2,   10,    0,    2,    0,    0, 1010,    1,    3],\n",
       "       [   6,    0,    5,    4,    3,    3,    1,    5,  943,    4],\n",
       "       [   3,    2,    0,    6,   15,    3,    0,   10,    2,  968]],\n",
       "      dtype=int64)"
      ]
     },
     "execution_count": 37,
     "metadata": {},
     "output_type": "execute_result"
    }
   ],
   "source": [
    "### confusion_matrix()\n",
    "    # y_true (벡터)와 y_pred (벡터)를 input으로 받는다.\n",
    "    # confusion matrix의 ij번째 element는 true_label이 i이고 predicted_label이 j인 데이터 개수를 나타낸다.\n",
    "    # 즉, M[0,0]: 정답 label 0, 예측 label 0 | M[2,0]: 정답 label 2, 예측 label 0\n",
    "\n",
    "from sklearn.metrics import confusion_matrix  # for evaluating results\n",
    "confusion_array = confusion_matrix(y_true = y_label, y_pred = predicted)\n",
    "confusion_array"
   ]
  }
 ],
 "metadata": {
  "kernelspec": {
   "display_name": "workspace",
   "language": "python",
   "name": "python3"
  },
  "language_info": {
   "codemirror_mode": {
    "name": "ipython",
    "version": 3
   },
   "file_extension": ".py",
   "mimetype": "text/x-python",
   "name": "python",
   "nbconvert_exporter": "python",
   "pygments_lexer": "ipython3",
   "version": "3.8.11"
  },
  "orig_nbformat": 4
 },
 "nbformat": 4,
 "nbformat_minor": 2
}
